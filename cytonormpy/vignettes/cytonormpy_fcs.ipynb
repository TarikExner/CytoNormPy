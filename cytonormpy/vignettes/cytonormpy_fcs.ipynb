{
 "cells": [
  {
   "cell_type": "markdown",
   "id": "7c03179a-244b-4e69-be78-c784548afe4e",
   "metadata": {},
   "source": [
    "# CytoNormPy - FCS files\n",
    "\n",
    "In this vignette, we showcase a typical analysis workflow using FCS files read from disk.\n",
    "\n",
    "First, we import the necessary libraries"
   ]
  },
  {
   "cell_type": "code",
   "execution_count": 1,
   "id": "de0cf484-caf4-42d1-a463-d6af1897cf59",
   "metadata": {},
   "outputs": [],
   "source": [
    "import cytonormpy as cnp\n",
    "\n",
    "import os\n",
    "import pandas as pd"
   ]
  },
  {
   "cell_type": "markdown",
   "id": "7ae5a7c6-4825-4243-93ac-705b338a41a9",
   "metadata": {},
   "source": [
    "## Metadata\n",
    "\n",
    "In order to tell cytonormpy, which data are references used for calculating the spline functions, we provide it with a metadata file as a `pandas.DataFrame`. Here, we read it from disk, but you can also create it on the fly using the pandas library."
   ]
  },
  {
   "cell_type": "code",
   "execution_count": 2,
   "id": "ec39205e-c413-41e5-bbe8-bcd0a4e37432",
   "metadata": {},
   "outputs": [
    {
     "data": {
      "text/html": [
       "<div>\n",
       "<style scoped>\n",
       "    .dataframe tbody tr th:only-of-type {\n",
       "        vertical-align: middle;\n",
       "    }\n",
       "\n",
       "    .dataframe tbody tr th {\n",
       "        vertical-align: top;\n",
       "    }\n",
       "\n",
       "    .dataframe thead th {\n",
       "        text-align: right;\n",
       "    }\n",
       "</style>\n",
       "<table border=\"1\" class=\"dataframe\">\n",
       "  <thead>\n",
       "    <tr style=\"text-align: right;\">\n",
       "      <th></th>\n",
       "      <th>file_name</th>\n",
       "      <th>reference</th>\n",
       "      <th>batch</th>\n",
       "      <th>sample_ID</th>\n",
       "    </tr>\n",
       "  </thead>\n",
       "  <tbody>\n",
       "    <tr>\n",
       "      <th>0</th>\n",
       "      <td>Gates_PTLG021_Unstim_Control_1.fcs</td>\n",
       "      <td>ref</td>\n",
       "      <td>1</td>\n",
       "      <td>1</td>\n",
       "    </tr>\n",
       "    <tr>\n",
       "      <th>1</th>\n",
       "      <td>Gates_PTLG021_Unstim_Control_2.fcs</td>\n",
       "      <td>other</td>\n",
       "      <td>1</td>\n",
       "      <td>2</td>\n",
       "    </tr>\n",
       "    <tr>\n",
       "      <th>2</th>\n",
       "      <td>Gates_PTLG028_Unstim_Control_1.fcs</td>\n",
       "      <td>ref</td>\n",
       "      <td>2</td>\n",
       "      <td>3</td>\n",
       "    </tr>\n",
       "    <tr>\n",
       "      <th>3</th>\n",
       "      <td>Gates_PTLG028_Unstim_Control_2.fcs</td>\n",
       "      <td>other</td>\n",
       "      <td>2</td>\n",
       "      <td>4</td>\n",
       "    </tr>\n",
       "    <tr>\n",
       "      <th>4</th>\n",
       "      <td>Gates_PTLG034_Unstim_Control_1.fcs</td>\n",
       "      <td>ref</td>\n",
       "      <td>3</td>\n",
       "      <td>5</td>\n",
       "    </tr>\n",
       "  </tbody>\n",
       "</table>\n",
       "</div>"
      ],
      "text/plain": [
       "                            file_name reference  batch  sample_ID\n",
       "0  Gates_PTLG021_Unstim_Control_1.fcs       ref      1          1\n",
       "1  Gates_PTLG021_Unstim_Control_2.fcs     other      1          2\n",
       "2  Gates_PTLG028_Unstim_Control_1.fcs       ref      2          3\n",
       "3  Gates_PTLG028_Unstim_Control_2.fcs     other      2          4\n",
       "4  Gates_PTLG034_Unstim_Control_1.fcs       ref      3          5"
      ]
     },
     "execution_count": 2,
     "metadata": {},
     "output_type": "execute_result"
    }
   ],
   "source": [
    "input_directory = \"../_resources/\"\n",
    "output_directory = os.path.join(input_directory, \"normalized\")\n",
    "\n",
    "if not os.path.exists(output_directory):\n",
    "    os.mkdir(output_directory)\n",
    "\n",
    "metadata = pd.read_csv(os.path.join(input_directory, \"metadata_sid.csv\"))\n",
    "metadata.head()"
   ]
  },
  {
   "cell_type": "markdown",
   "id": "bfe26bb3-aa80-4366-bcaf-291a1da8084a",
   "metadata": {},
   "source": [
    "## Data setup\n",
    "\n",
    "We instantiate the cytonorm object and add a data transformer that will transform our data to the asinh space and the clusterer that will cluster the cells."
   ]
  },
  {
   "cell_type": "code",
   "execution_count": 3,
   "id": "15894af4-cf94-4349-a3e8-f8d2e9ef7d4c",
   "metadata": {},
   "outputs": [],
   "source": [
    "cn = cnp.CytoNorm()\n",
    "\n",
    "t = cnp.AsinhTransformer()\n",
    "fs = cnp.FlowSOM(n_clusters = 4)\n",
    "\n",
    "cn.add_transformer(t)\n",
    "cn.add_clusterer(fs)"
   ]
  },
  {
   "cell_type": "markdown",
   "id": "53426e70-b973-423f-85ad-7c6af5d265dc",
   "metadata": {},
   "source": [
    "The channels to be normalized are saved in a text file and will be passed to the `run_fcs_data_setup()` method.\n",
    "\n",
    "Alternatively, valid arguments for the `channels` keyword are \"markers\" and \"all\". "
   ]
  },
  {
   "cell_type": "code",
   "execution_count": 4,
   "id": "9aee68d2-57f9-49ed-95ec-603d5cd42788",
   "metadata": {},
   "outputs": [],
   "source": [
    "coding_detectors = pd.read_csv(input_directory + \"coding_detectors.txt\", header = None)[0].tolist()"
   ]
  },
  {
   "cell_type": "code",
   "execution_count": 5,
   "id": "aeaa285a-5c32-4d8a-aa61-8175e15befbf",
   "metadata": {},
   "outputs": [],
   "source": [
    "cn.run_fcs_data_setup(input_directory = input_directory,\n",
    "                      metadata = metadata,\n",
    "                      channels = coding_detectors,\n",
    "                      output_directory = output_directory,\n",
    "                      prefix = \"Norm\")"
   ]
  },
  {
   "cell_type": "markdown",
   "id": "a17c3a48-a037-429d-a49e-0849e5763fea",
   "metadata": {},
   "source": [
    "## Clustering\n",
    "\n",
    "We run the FlowSOM clustering and pass a `cluster_cv_threshold` of 2. This value is used to evaluate if the distribution of files within one cluster is sufficient. A warning will be raised if that is not the case."
   ]
  },
  {
   "cell_type": "code",
   "execution_count": 6,
   "id": "e8d86f71-f739-41a1-a55d-f870db4abfd8",
   "metadata": {},
   "outputs": [],
   "source": [
    "cn.run_clustering(cluster_cv_threshold = 2)"
   ]
  },
  {
   "cell_type": "markdown",
   "id": "db7b7c16-3f3f-43be-94e9-aafae16b568b",
   "metadata": {},
   "source": [
    "## Calculation\n",
    "\n",
    "Finally, we calculate the quantiles per batch and cluster, calculate the spline functions and transform the expression values accordingly.\n",
    "\n",
    "The data will automatically be saved to disk using the prefix `Norm_`. To change that prefix, pass the keyword `prefix` to the `.run_fcs_data_setup()` method above."
   ]
  },
  {
   "cell_type": "code",
   "execution_count": 7,
   "id": "df11034c-851b-4d93-99f7-2c9b619ab51b",
   "metadata": {},
   "outputs": [
    {
     "name": "stderr",
     "output_type": "stream",
     "text": [
      "C:\\Users\\tarik\\anaconda3\\envs\\cytonorm\\lib\\site-packages\\cytonormpy\\_cytonorm\\_cytonorm.py:463: UserWarning: 26 cells detected in batch 1 for cluster 3. Skipping quantile calculation. \n",
      "  warnings.warn(\n",
      "C:\\Users\\tarik\\anaconda3\\envs\\cytonorm\\lib\\site-packages\\cytonormpy\\_cytonorm\\_cytonorm.py:463: UserWarning: 22 cells detected in batch 2 for cluster 3. Skipping quantile calculation. \n",
      "  warnings.warn(\n",
      "C:\\Users\\tarik\\anaconda3\\envs\\cytonorm\\lib\\site-packages\\cytonormpy\\_cytonorm\\_cytonorm.py:463: UserWarning: 37 cells detected in batch 3 for cluster 3. Skipping quantile calculation. \n",
      "  warnings.warn(\n",
      "C:\\Users\\tarik\\anaconda3\\envs\\cytonorm\\lib\\site-packages\\cytonormpy\\_normalization\\_quantile_calc.py:301: RuntimeWarning: Mean of empty slice\n",
      "  self.distrib = mean_func(\n"
     ]
    },
    {
     "name": "stdout",
     "output_type": "stream",
     "text": [
      "normalized file Gates_PTLG021_Unstim_Control_2.fcsnormalized file Gates_PTLG028_Unstim_Control_2.fcs\n",
      "\n",
      "normalized file Gates_PTLG034_Unstim_Control_2.fcs\n"
     ]
    }
   ],
   "source": [
    "cn.calculate_quantiles()\n",
    "cn.calculate_splines(goal = \"batch_mean\")\n",
    "cn.normalize_data()"
   ]
  },
  {
   "cell_type": "markdown",
   "id": "798e4f92-e0d1-438f-b24d-c10feb15c3b5",
   "metadata": {},
   "source": [
    "In order to use the cytonorm object on new data, simply pass the filenames and the batch information. You can either pass a single filename or provide a list."
   ]
  },
  {
   "cell_type": "code",
   "execution_count": 8,
   "id": "5cf8b937-9e74-425c-8b36-2338c209bab4",
   "metadata": {},
   "outputs": [
    {
     "name": "stdout",
     "output_type": "stream",
     "text": [
      "normalized file Gates_PTLG034_Unstim_Control_2_dup.fcs\n"
     ]
    }
   ],
   "source": [
    "cn.normalize_data(file_names = \"Gates_PTLG034_Unstim_Control_2_dup.fcs\",\n",
    "                  batches = 3)"
   ]
  }
 ],
 "metadata": {
  "kernelspec": {
   "display_name": "Python 3 (ipykernel)",
   "language": "python",
   "name": "python3"
  },
  "language_info": {
   "codemirror_mode": {
    "name": "ipython",
    "version": 3
   },
   "file_extension": ".py",
   "mimetype": "text/x-python",
   "name": "python",
   "nbconvert_exporter": "python",
   "pygments_lexer": "ipython3",
   "version": "3.10.14"
  }
 },
 "nbformat": 4,
 "nbformat_minor": 5
}
