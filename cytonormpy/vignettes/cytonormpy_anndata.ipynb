{
 "cells": [
  {
   "cell_type": "markdown",
   "id": "af52f273-a5a6-4468-98e3-7e4b0db25e82",
   "metadata": {},
   "source": [
    "# CytoNormPy - AnnData objects\n",
    "\n",
    "In this vignette, we showcase a typical analysis workflow using anndata objects.\n",
    "\n",
    "First, we import the necessary libraries and create the anndata object."
   ]
  },
  {
   "cell_type": "code",
   "execution_count": 1,
   "id": "ef0905bf-c14c-460c-9f5e-78962ea79de2",
   "metadata": {},
   "outputs": [],
   "source": [
    "import cytonormpy as cnp\n",
    "\n",
    "import anndata as ad\n",
    "import pandas as pd\n",
    "import os\n",
    "import numpy as np\n",
    "\n",
    "import anndata as ad\n",
    "\n",
    "from cytonormpy import FCSFile"
   ]
  },
  {
   "cell_type": "markdown",
   "id": "abd3ab11-fc16-4398-8acc-9a45667e468d",
   "metadata": {},
   "source": [
    "## AnnData creation\n",
    "\n",
    "We use the internal representation to create an AnnData object as follows:"
   ]
  },
  {
   "cell_type": "code",
   "execution_count": 2,
   "id": "0a993686-82f8-495e-b9cf-1009820bdfa6",
   "metadata": {},
   "outputs": [],
   "source": [
    "def _fcs_to_anndata(input_directory,\n",
    "                    file,\n",
    "                    file_no,\n",
    "                    metadata) -> ad.AnnData:\n",
    "    fcs = FCSFile(input_directory = input_directory,\n",
    "                  file_name = file)\n",
    "    events = fcs.original_events\n",
    "    md_row = metadata.loc[metadata[\"file_name\"] == file, :].to_numpy()\n",
    "    obs = np.repeat(md_row, events.shape[0], axis = 0)\n",
    "    var_frame = fcs.channels\n",
    "    obs_frame = pd.DataFrame(\n",
    "        data = obs,\n",
    "        columns = metadata.columns,\n",
    "        index = pd.Index([f\"{file_no}-{str(i)}\" for i in range(events.shape[0])])\n",
    "    )\n",
    "    adata = ad.AnnData(\n",
    "        obs = obs_frame,\n",
    "        var = var_frame,\n",
    "        layers = {\"compensated\": events}\n",
    "    )\n",
    "    adata.obs_names_make_unique()\n",
    "    adata.var_names_make_unique()\n",
    "    return adata"
   ]
  },
  {
   "cell_type": "code",
   "execution_count": 3,
   "id": "57358205-db52-4637-9ae6-7bf5e9bc0f9e",
   "metadata": {},
   "outputs": [],
   "source": [
    "input_directory = \"../_resources/\"\n",
    "fcs_files = [\n",
    "    'Gates_PTLG021_Unstim_Control_1.fcs',\n",
    "    'Gates_PTLG021_Unstim_Control_2.fcs',\n",
    "    'Gates_PTLG028_Unstim_Control_1.fcs',\n",
    "    'Gates_PTLG028_Unstim_Control_2.fcs',\n",
    "    'Gates_PTLG034_Unstim_Control_1.fcs',\n",
    "    'Gates_PTLG034_Unstim_Control_2.fcs'\n",
    "]\n",
    "adatas = []\n",
    "metadata = pd.read_csv(os.path.join(input_directory, \"metadata_sid.csv\"))\n",
    "for file_no, file in enumerate(fcs_files):\n",
    "    adatas.append(\n",
    "        _fcs_to_anndata(input_directory, file, file_no, metadata)\n",
    "    )\n",
    "\n",
    "dataset = ad.concat(adatas, axis = 0, join = \"outer\", merge = \"same\")\n",
    "dataset.obs = dataset.obs.astype(\"object\")\n",
    "dataset.var = dataset.var.astype(\"object\")\n",
    "dataset.obs_names_make_unique()\n",
    "dataset.var_names_make_unique()"
   ]
  },
  {
   "cell_type": "code",
   "execution_count": 4,
   "id": "b9862fab-e60d-46eb-bd8d-364e46ba975e",
   "metadata": {},
   "outputs": [
    {
     "data": {
      "text/plain": [
       "AnnData object with n_obs × n_vars = 6000 × 55\n",
       "    obs: 'file_name', 'reference', 'batch', 'sample_ID'\n",
       "    var: 'pns', 'png', 'pne', 'channel_numbers'\n",
       "    layers: 'compensated'"
      ]
     },
     "execution_count": 4,
     "metadata": {},
     "output_type": "execute_result"
    }
   ],
   "source": [
    "dataset"
   ]
  },
  {
   "cell_type": "markdown",
   "id": "56da0c12-54ea-4fe3-8af7-ecf69b788cf5",
   "metadata": {},
   "source": [
    "## Data setup\n",
    "\n",
    "We instantiate the cytonorm object and add a data transformer that will transform our data to the asinh space and the clusterer that will cluster the cells."
   ]
  },
  {
   "cell_type": "code",
   "execution_count": 5,
   "id": "db7293b8-34c6-4a33-ad82-d2373f734274",
   "metadata": {},
   "outputs": [],
   "source": [
    "cn = cnp.CytoNorm()\n",
    "\n",
    "t = cnp.AsinhTransformer()\n",
    "fs = cnp.FlowSOM(n_clusters = 10)\n",
    "\n",
    "cn.add_transformer(t)\n",
    "cn.add_clusterer(fs)\n",
    "\n"
   ]
  },
  {
   "cell_type": "markdown",
   "id": "8f8f9e60-4da4-437c-9a28-1c5f5715f41d",
   "metadata": {},
   "source": [
    "Next, we run the `run_anndata_setup()` method."
   ]
  },
  {
   "cell_type": "code",
   "execution_count": 6,
   "id": "34d1c6b1-4b44-42e7-b85d-32192562cb87",
   "metadata": {},
   "outputs": [],
   "source": [
    "cn.run_anndata_setup(dataset,\n",
    "                     layer = \"compensated\",\n",
    "                     key_added = \"normalized\")"
   ]
  },
  {
   "cell_type": "markdown",
   "id": "f7060585-85c5-419a-ac44-67659fa95653",
   "metadata": {},
   "source": [
    "## Clustering\n",
    "\n",
    "We run the FlowSOM clustering and pass a `cluster_cv_threshold` of 2. This value is used to evaluate if the distribution of files within one cluster is sufficient. A warning will be raised if that is not the case."
   ]
  },
  {
   "cell_type": "code",
   "execution_count": 7,
   "id": "fdd0defd-5624-4362-97f4-c7fb122cf961",
   "metadata": {},
   "outputs": [],
   "source": [
    "cn.run_clustering(cluster_cv_threshold = 2)"
   ]
  },
  {
   "cell_type": "markdown",
   "id": "d3358215-7614-4f4d-bf59-d7b0a68dfcee",
   "metadata": {},
   "source": [
    "## Calculation\n",
    "\n",
    "Finally, we calculate the quantiles per batch and cluster, calculate the spline functions and transform the expression values accordingly.\n",
    "\n",
    "The data will automatically be saved to the anndata object in the layer \"normalized\". In order to change the layer name, use the keyword `key_added` in the `run_anndata_setup()` method from above."
   ]
  },
  {
   "cell_type": "code",
   "execution_count": 8,
   "id": "62782e3c-9a5d-4a0e-9feb-254988bf1cf3",
   "metadata": {},
   "outputs": [
    {
     "name": "stderr",
     "output_type": "stream",
     "text": [
      "C:\\Users\\tarik\\anaconda3\\envs\\cytonorm\\lib\\site-packages\\cytonormpy\\_cytonorm\\_cytonorm.py:463: UserWarning: 10 cells detected in batch 1 for cluster 0. Skipping quantile calculation. \n",
      "  warnings.warn(\n",
      "C:\\Users\\tarik\\anaconda3\\envs\\cytonorm\\lib\\site-packages\\cytonormpy\\_cytonorm\\_cytonorm.py:463: UserWarning: 32 cells detected in batch 1 for cluster 1. Skipping quantile calculation. \n",
      "  warnings.warn(\n",
      "C:\\Users\\tarik\\anaconda3\\envs\\cytonorm\\lib\\site-packages\\cytonormpy\\_cytonorm\\_cytonorm.py:463: UserWarning: 23 cells detected in batch 1 for cluster 2. Skipping quantile calculation. \n",
      "  warnings.warn(\n",
      "C:\\Users\\tarik\\anaconda3\\envs\\cytonorm\\lib\\site-packages\\cytonormpy\\_cytonorm\\_cytonorm.py:463: UserWarning: 34 cells detected in batch 1 for cluster 3. Skipping quantile calculation. \n",
      "  warnings.warn(\n",
      "C:\\Users\\tarik\\anaconda3\\envs\\cytonorm\\lib\\site-packages\\cytonormpy\\_cytonorm\\_cytonorm.py:463: UserWarning: 12 cells detected in batch 1 for cluster 7. Skipping quantile calculation. \n",
      "  warnings.warn(\n",
      "C:\\Users\\tarik\\anaconda3\\envs\\cytonorm\\lib\\site-packages\\cytonormpy\\_cytonorm\\_cytonorm.py:463: UserWarning: 18 cells detected in batch 1 for cluster 8. Skipping quantile calculation. \n",
      "  warnings.warn(\n",
      "C:\\Users\\tarik\\anaconda3\\envs\\cytonorm\\lib\\site-packages\\cytonormpy\\_cytonorm\\_cytonorm.py:463: UserWarning: 11 cells detected in batch 2 for cluster 0. Skipping quantile calculation. \n",
      "  warnings.warn(\n",
      "C:\\Users\\tarik\\anaconda3\\envs\\cytonorm\\lib\\site-packages\\cytonormpy\\_cytonorm\\_cytonorm.py:463: UserWarning: 44 cells detected in batch 2 for cluster 1. Skipping quantile calculation. \n",
      "  warnings.warn(\n",
      "C:\\Users\\tarik\\anaconda3\\envs\\cytonorm\\lib\\site-packages\\cytonormpy\\_cytonorm\\_cytonorm.py:463: UserWarning: 10 cells detected in batch 2 for cluster 2. Skipping quantile calculation. \n",
      "  warnings.warn(\n",
      "C:\\Users\\tarik\\anaconda3\\envs\\cytonorm\\lib\\site-packages\\cytonormpy\\_cytonorm\\_cytonorm.py:463: UserWarning: 10 cells detected in batch 2 for cluster 7. Skipping quantile calculation. \n",
      "  warnings.warn(\n",
      "C:\\Users\\tarik\\anaconda3\\envs\\cytonorm\\lib\\site-packages\\cytonormpy\\_cytonorm\\_cytonorm.py:463: UserWarning: 13 cells detected in batch 2 for cluster 8. Skipping quantile calculation. \n",
      "  warnings.warn(\n",
      "C:\\Users\\tarik\\anaconda3\\envs\\cytonorm\\lib\\site-packages\\cytonormpy\\_cytonorm\\_cytonorm.py:463: UserWarning: 17 cells detected in batch 3 for cluster 0. Skipping quantile calculation. \n",
      "  warnings.warn(\n",
      "C:\\Users\\tarik\\anaconda3\\envs\\cytonorm\\lib\\site-packages\\cytonormpy\\_cytonorm\\_cytonorm.py:463: UserWarning: 41 cells detected in batch 3 for cluster 2. Skipping quantile calculation. \n",
      "  warnings.warn(\n",
      "C:\\Users\\tarik\\anaconda3\\envs\\cytonorm\\lib\\site-packages\\cytonormpy\\_cytonorm\\_cytonorm.py:463: UserWarning: 41 cells detected in batch 3 for cluster 3. Skipping quantile calculation. \n",
      "  warnings.warn(\n",
      "C:\\Users\\tarik\\anaconda3\\envs\\cytonorm\\lib\\site-packages\\cytonormpy\\_cytonorm\\_cytonorm.py:463: UserWarning: 9 cells detected in batch 3 for cluster 7. Skipping quantile calculation. \n",
      "  warnings.warn(\n",
      "C:\\Users\\tarik\\anaconda3\\envs\\cytonorm\\lib\\site-packages\\cytonormpy\\_cytonorm\\_cytonorm.py:463: UserWarning: 23 cells detected in batch 3 for cluster 8. Skipping quantile calculation. \n",
      "  warnings.warn(\n",
      "C:\\Users\\tarik\\anaconda3\\envs\\cytonorm\\lib\\site-packages\\cytonormpy\\_normalization\\_quantile_calc.py:301: RuntimeWarning: Mean of empty slice\n",
      "  self.distrib = mean_func(\n"
     ]
    },
    {
     "name": "stdout",
     "output_type": "stream",
     "text": [
      "normalized file Gates_PTLG028_Unstim_Control_2.fcs\n",
      "normalized file Gates_PTLG021_Unstim_Control_2.fcs\n",
      "normalized file Gates_PTLG034_Unstim_Control_2.fcs\n"
     ]
    }
   ],
   "source": [
    "cn.calculate_quantiles()\n",
    "cn.calculate_splines(goal = \"batch_mean\")\n",
    "cn.normalize_data()"
   ]
  },
  {
   "cell_type": "code",
   "execution_count": 9,
   "id": "0a52ba15-eab0-4c58-a0b7-13b312529884",
   "metadata": {},
   "outputs": [
    {
     "data": {
      "text/plain": [
       "AnnData object with n_obs × n_vars = 6000 × 55\n",
       "    obs: 'file_name', 'reference', 'batch', 'sample_ID'\n",
       "    var: 'pns', 'png', 'pne', 'channel_numbers'\n",
       "    layers: 'compensated', 'normalized'"
      ]
     },
     "execution_count": 9,
     "metadata": {},
     "output_type": "execute_result"
    }
   ],
   "source": [
    "dataset"
   ]
  },
  {
   "cell_type": "markdown",
   "id": "1e737a4f-64df-4e8f-8bc2-f75f8746ad2a",
   "metadata": {},
   "source": [
    "In order to run the algorithm on new data, we can just pass the updated anndata and specify the necessary file names.\n",
    "\n",
    "We will first create the new anndata object that contains an additional file."
   ]
  },
  {
   "cell_type": "code",
   "execution_count": 10,
   "id": "002a28bf-d2bd-46ff-bd61-bbd296923b8c",
   "metadata": {},
   "outputs": [
    {
     "data": {
      "text/plain": [
       "AnnData object with n_obs × n_vars = 7000 × 55\n",
       "    obs: 'file_name', 'reference', 'batch', 'sample_ID'\n",
       "    layers: 'compensated', 'normalized'"
      ]
     },
     "execution_count": 10,
     "metadata": {},
     "output_type": "execute_result"
    }
   ],
   "source": [
    "filename = \"Gates_PTLG034_Unstim_Control_2_dup.fcs\"\n",
    "metadata = pd.DataFrame(\n",
    "    data = [[filename, \"other\", 3]],\n",
    "    columns = [\"file_name\", \"reference\", \"batch\"]\n",
    ")\n",
    "new_adata = _fcs_to_anndata(input_directory, filename, 7, metadata)\n",
    "\n",
    "dataset = ad.concat([dataset, new_adata], axis = 0, join = \"outer\")\n",
    "dataset"
   ]
  },
  {
   "cell_type": "markdown",
   "id": "beebefd0-9b76-45c5-aab1-bdad3299106f",
   "metadata": {},
   "source": [
    "Currently, all 'normalized' values for the new file are NaN:"
   ]
  },
  {
   "cell_type": "code",
   "execution_count": 11,
   "id": "e264dd19-020c-4bc4-b3c1-e323e942aad1",
   "metadata": {},
   "outputs": [
    {
     "data": {
      "text/html": [
       "<div>\n",
       "<style scoped>\n",
       "    .dataframe tbody tr th:only-of-type {\n",
       "        vertical-align: middle;\n",
       "    }\n",
       "\n",
       "    .dataframe tbody tr th {\n",
       "        vertical-align: top;\n",
       "    }\n",
       "\n",
       "    .dataframe thead th {\n",
       "        text-align: right;\n",
       "    }\n",
       "</style>\n",
       "<table border=\"1\" class=\"dataframe\">\n",
       "  <thead>\n",
       "    <tr style=\"text-align: right;\">\n",
       "      <th></th>\n",
       "      <th>Time</th>\n",
       "      <th>Event_length</th>\n",
       "      <th>Y89Di</th>\n",
       "      <th>Pd102Di</th>\n",
       "      <th>Pd104Di</th>\n",
       "      <th>Pd105Di</th>\n",
       "      <th>Pd106Di</th>\n",
       "      <th>Pd108Di</th>\n",
       "      <th>Pd110Di</th>\n",
       "      <th>In113Di</th>\n",
       "      <th>...</th>\n",
       "      <th>Yb171Di</th>\n",
       "      <th>Yb172Di</th>\n",
       "      <th>Yb173Di</th>\n",
       "      <th>Yb174Di</th>\n",
       "      <th>Lu175Di</th>\n",
       "      <th>Yb176Di</th>\n",
       "      <th>Ir191Di</th>\n",
       "      <th>Ir193Di</th>\n",
       "      <th>Pt195Di</th>\n",
       "      <th>beadDist</th>\n",
       "    </tr>\n",
       "  </thead>\n",
       "  <tbody>\n",
       "    <tr>\n",
       "      <th>7-0</th>\n",
       "      <td>NaN</td>\n",
       "      <td>NaN</td>\n",
       "      <td>NaN</td>\n",
       "      <td>NaN</td>\n",
       "      <td>NaN</td>\n",
       "      <td>NaN</td>\n",
       "      <td>NaN</td>\n",
       "      <td>NaN</td>\n",
       "      <td>NaN</td>\n",
       "      <td>NaN</td>\n",
       "      <td>...</td>\n",
       "      <td>NaN</td>\n",
       "      <td>NaN</td>\n",
       "      <td>NaN</td>\n",
       "      <td>NaN</td>\n",
       "      <td>NaN</td>\n",
       "      <td>NaN</td>\n",
       "      <td>NaN</td>\n",
       "      <td>NaN</td>\n",
       "      <td>NaN</td>\n",
       "      <td>NaN</td>\n",
       "    </tr>\n",
       "    <tr>\n",
       "      <th>7-1</th>\n",
       "      <td>NaN</td>\n",
       "      <td>NaN</td>\n",
       "      <td>NaN</td>\n",
       "      <td>NaN</td>\n",
       "      <td>NaN</td>\n",
       "      <td>NaN</td>\n",
       "      <td>NaN</td>\n",
       "      <td>NaN</td>\n",
       "      <td>NaN</td>\n",
       "      <td>NaN</td>\n",
       "      <td>...</td>\n",
       "      <td>NaN</td>\n",
       "      <td>NaN</td>\n",
       "      <td>NaN</td>\n",
       "      <td>NaN</td>\n",
       "      <td>NaN</td>\n",
       "      <td>NaN</td>\n",
       "      <td>NaN</td>\n",
       "      <td>NaN</td>\n",
       "      <td>NaN</td>\n",
       "      <td>NaN</td>\n",
       "    </tr>\n",
       "    <tr>\n",
       "      <th>7-2</th>\n",
       "      <td>NaN</td>\n",
       "      <td>NaN</td>\n",
       "      <td>NaN</td>\n",
       "      <td>NaN</td>\n",
       "      <td>NaN</td>\n",
       "      <td>NaN</td>\n",
       "      <td>NaN</td>\n",
       "      <td>NaN</td>\n",
       "      <td>NaN</td>\n",
       "      <td>NaN</td>\n",
       "      <td>...</td>\n",
       "      <td>NaN</td>\n",
       "      <td>NaN</td>\n",
       "      <td>NaN</td>\n",
       "      <td>NaN</td>\n",
       "      <td>NaN</td>\n",
       "      <td>NaN</td>\n",
       "      <td>NaN</td>\n",
       "      <td>NaN</td>\n",
       "      <td>NaN</td>\n",
       "      <td>NaN</td>\n",
       "    </tr>\n",
       "    <tr>\n",
       "      <th>7-3</th>\n",
       "      <td>NaN</td>\n",
       "      <td>NaN</td>\n",
       "      <td>NaN</td>\n",
       "      <td>NaN</td>\n",
       "      <td>NaN</td>\n",
       "      <td>NaN</td>\n",
       "      <td>NaN</td>\n",
       "      <td>NaN</td>\n",
       "      <td>NaN</td>\n",
       "      <td>NaN</td>\n",
       "      <td>...</td>\n",
       "      <td>NaN</td>\n",
       "      <td>NaN</td>\n",
       "      <td>NaN</td>\n",
       "      <td>NaN</td>\n",
       "      <td>NaN</td>\n",
       "      <td>NaN</td>\n",
       "      <td>NaN</td>\n",
       "      <td>NaN</td>\n",
       "      <td>NaN</td>\n",
       "      <td>NaN</td>\n",
       "    </tr>\n",
       "    <tr>\n",
       "      <th>7-4</th>\n",
       "      <td>NaN</td>\n",
       "      <td>NaN</td>\n",
       "      <td>NaN</td>\n",
       "      <td>NaN</td>\n",
       "      <td>NaN</td>\n",
       "      <td>NaN</td>\n",
       "      <td>NaN</td>\n",
       "      <td>NaN</td>\n",
       "      <td>NaN</td>\n",
       "      <td>NaN</td>\n",
       "      <td>...</td>\n",
       "      <td>NaN</td>\n",
       "      <td>NaN</td>\n",
       "      <td>NaN</td>\n",
       "      <td>NaN</td>\n",
       "      <td>NaN</td>\n",
       "      <td>NaN</td>\n",
       "      <td>NaN</td>\n",
       "      <td>NaN</td>\n",
       "      <td>NaN</td>\n",
       "      <td>NaN</td>\n",
       "    </tr>\n",
       "  </tbody>\n",
       "</table>\n",
       "<p>5 rows × 55 columns</p>\n",
       "</div>"
      ],
      "text/plain": [
       "     Time  Event_length  Y89Di  Pd102Di  Pd104Di  Pd105Di  Pd106Di  Pd108Di  \\\n",
       "7-0   NaN           NaN    NaN      NaN      NaN      NaN      NaN      NaN   \n",
       "7-1   NaN           NaN    NaN      NaN      NaN      NaN      NaN      NaN   \n",
       "7-2   NaN           NaN    NaN      NaN      NaN      NaN      NaN      NaN   \n",
       "7-3   NaN           NaN    NaN      NaN      NaN      NaN      NaN      NaN   \n",
       "7-4   NaN           NaN    NaN      NaN      NaN      NaN      NaN      NaN   \n",
       "\n",
       "     Pd110Di  In113Di  ...  Yb171Di  Yb172Di  Yb173Di  Yb174Di  Lu175Di  \\\n",
       "7-0      NaN      NaN  ...      NaN      NaN      NaN      NaN      NaN   \n",
       "7-1      NaN      NaN  ...      NaN      NaN      NaN      NaN      NaN   \n",
       "7-2      NaN      NaN  ...      NaN      NaN      NaN      NaN      NaN   \n",
       "7-3      NaN      NaN  ...      NaN      NaN      NaN      NaN      NaN   \n",
       "7-4      NaN      NaN  ...      NaN      NaN      NaN      NaN      NaN   \n",
       "\n",
       "     Yb176Di  Ir191Di  Ir193Di  Pt195Di  beadDist  \n",
       "7-0      NaN      NaN      NaN      NaN       NaN  \n",
       "7-1      NaN      NaN      NaN      NaN       NaN  \n",
       "7-2      NaN      NaN      NaN      NaN       NaN  \n",
       "7-3      NaN      NaN      NaN      NaN       NaN  \n",
       "7-4      NaN      NaN      NaN      NaN       NaN  \n",
       "\n",
       "[5 rows x 55 columns]"
      ]
     },
     "execution_count": 11,
     "metadata": {},
     "output_type": "execute_result"
    }
   ],
   "source": [
    "dataset[dataset.obs[\"file_name\"] == filename,:].to_df(layer = \"normalized\").head()"
   ]
  },
  {
   "cell_type": "code",
   "execution_count": 12,
   "id": "5c666c43-b920-4ae8-bffc-31c525645b72",
   "metadata": {},
   "outputs": [
    {
     "name": "stdout",
     "output_type": "stream",
     "text": [
      "normalized file Gates_PTLG034_Unstim_Control_2_dup.fcs\n"
     ]
    }
   ],
   "source": [
    "cn.normalize_data(adata = dataset,\n",
    "                  file_names = filename,\n",
    "                  batches = 3)"
   ]
  },
  {
   "cell_type": "markdown",
   "id": "d89c6b33-8d4e-4ce9-96c8-31b226e40964",
   "metadata": {},
   "source": [
    "The normalized values are now stored inplace!"
   ]
  },
  {
   "cell_type": "code",
   "execution_count": 13,
   "id": "62ac7b49-b5a1-4525-98e4-76a89d11b274",
   "metadata": {},
   "outputs": [
    {
     "data": {
      "text/html": [
       "<div>\n",
       "<style scoped>\n",
       "    .dataframe tbody tr th:only-of-type {\n",
       "        vertical-align: middle;\n",
       "    }\n",
       "\n",
       "    .dataframe tbody tr th {\n",
       "        vertical-align: top;\n",
       "    }\n",
       "\n",
       "    .dataframe thead th {\n",
       "        text-align: right;\n",
       "    }\n",
       "</style>\n",
       "<table border=\"1\" class=\"dataframe\">\n",
       "  <thead>\n",
       "    <tr style=\"text-align: right;\">\n",
       "      <th></th>\n",
       "      <th>Time</th>\n",
       "      <th>Event_length</th>\n",
       "      <th>Y89Di</th>\n",
       "      <th>Pd102Di</th>\n",
       "      <th>Pd104Di</th>\n",
       "      <th>Pd105Di</th>\n",
       "      <th>Pd106Di</th>\n",
       "      <th>Pd108Di</th>\n",
       "      <th>Pd110Di</th>\n",
       "      <th>In113Di</th>\n",
       "      <th>...</th>\n",
       "      <th>Yb171Di</th>\n",
       "      <th>Yb172Di</th>\n",
       "      <th>Yb173Di</th>\n",
       "      <th>Yb174Di</th>\n",
       "      <th>Lu175Di</th>\n",
       "      <th>Yb176Di</th>\n",
       "      <th>Ir191Di</th>\n",
       "      <th>Ir193Di</th>\n",
       "      <th>Pt195Di</th>\n",
       "      <th>beadDist</th>\n",
       "    </tr>\n",
       "  </thead>\n",
       "  <tbody>\n",
       "    <tr>\n",
       "      <th>7-0</th>\n",
       "      <td>134.582993</td>\n",
       "      <td>16.0</td>\n",
       "      <td>0.000000</td>\n",
       "      <td>7.228584</td>\n",
       "      <td>7.189367</td>\n",
       "      <td>71.294830</td>\n",
       "      <td>5.702826</td>\n",
       "      <td>104.989067</td>\n",
       "      <td>98.768669</td>\n",
       "      <td>0.000000</td>\n",
       "      <td>...</td>\n",
       "      <td>0.000000</td>\n",
       "      <td>2.360246</td>\n",
       "      <td>0.000000</td>\n",
       "      <td>2.092115</td>\n",
       "      <td>0.883527</td>\n",
       "      <td>23.012224</td>\n",
       "      <td>36.423241</td>\n",
       "      <td>115.555214</td>\n",
       "      <td>0.00000</td>\n",
       "      <td>30.672935</td>\n",
       "    </tr>\n",
       "    <tr>\n",
       "      <th>7-1</th>\n",
       "      <td>307.864990</td>\n",
       "      <td>25.0</td>\n",
       "      <td>0.002206</td>\n",
       "      <td>12.507555</td>\n",
       "      <td>9.873809</td>\n",
       "      <td>163.776979</td>\n",
       "      <td>-58890.808302</td>\n",
       "      <td>257.224193</td>\n",
       "      <td>95.971925</td>\n",
       "      <td>0.015925</td>\n",
       "      <td>...</td>\n",
       "      <td>8.336418</td>\n",
       "      <td>2.261871</td>\n",
       "      <td>44.503762</td>\n",
       "      <td>292.588630</td>\n",
       "      <td>27.549920</td>\n",
       "      <td>9.856425</td>\n",
       "      <td>45.391734</td>\n",
       "      <td>55.241609</td>\n",
       "      <td>0.00000</td>\n",
       "      <td>24.536996</td>\n",
       "    </tr>\n",
       "    <tr>\n",
       "      <th>7-2</th>\n",
       "      <td>370.299011</td>\n",
       "      <td>13.0</td>\n",
       "      <td>0.003463</td>\n",
       "      <td>36.799025</td>\n",
       "      <td>13.417882</td>\n",
       "      <td>211.015165</td>\n",
       "      <td>20.976627</td>\n",
       "      <td>276.136718</td>\n",
       "      <td>149.921257</td>\n",
       "      <td>0.004231</td>\n",
       "      <td>...</td>\n",
       "      <td>7.125834</td>\n",
       "      <td>91.484564</td>\n",
       "      <td>2.062176</td>\n",
       "      <td>0.014850</td>\n",
       "      <td>0.014355</td>\n",
       "      <td>0.868086</td>\n",
       "      <td>123.887066</td>\n",
       "      <td>262.643249</td>\n",
       "      <td>0.00123</td>\n",
       "      <td>36.182745</td>\n",
       "    </tr>\n",
       "    <tr>\n",
       "      <th>7-3</th>\n",
       "      <td>390.078003</td>\n",
       "      <td>25.0</td>\n",
       "      <td>0.002691</td>\n",
       "      <td>3.249339</td>\n",
       "      <td>6.472832</td>\n",
       "      <td>135.292660</td>\n",
       "      <td>3.016704</td>\n",
       "      <td>168.964218</td>\n",
       "      <td>1647.904436</td>\n",
       "      <td>0.000168</td>\n",
       "      <td>...</td>\n",
       "      <td>2.134535</td>\n",
       "      <td>2.635778</td>\n",
       "      <td>45.804745</td>\n",
       "      <td>7.486548</td>\n",
       "      <td>0.000412</td>\n",
       "      <td>16.518124</td>\n",
       "      <td>78.197299</td>\n",
       "      <td>151.034121</td>\n",
       "      <td>0.00000</td>\n",
       "      <td>33.435956</td>\n",
       "    </tr>\n",
       "    <tr>\n",
       "      <th>7-4</th>\n",
       "      <td>723.723999</td>\n",
       "      <td>15.0</td>\n",
       "      <td>0.000000</td>\n",
       "      <td>4.033677</td>\n",
       "      <td>0.000000</td>\n",
       "      <td>23.492430</td>\n",
       "      <td>0.000000</td>\n",
       "      <td>48.940914</td>\n",
       "      <td>30.778446</td>\n",
       "      <td>3.794250</td>\n",
       "      <td>...</td>\n",
       "      <td>0.000000</td>\n",
       "      <td>0.000000</td>\n",
       "      <td>0.000000</td>\n",
       "      <td>0.180230</td>\n",
       "      <td>0.000000</td>\n",
       "      <td>3.118176</td>\n",
       "      <td>4.195136</td>\n",
       "      <td>9.201713</td>\n",
       "      <td>0.00000</td>\n",
       "      <td>31.036688</td>\n",
       "    </tr>\n",
       "  </tbody>\n",
       "</table>\n",
       "<p>5 rows × 55 columns</p>\n",
       "</div>"
      ],
      "text/plain": [
       "           Time  Event_length     Y89Di    Pd102Di    Pd104Di     Pd105Di  \\\n",
       "7-0  134.582993          16.0  0.000000   7.228584   7.189367   71.294830   \n",
       "7-1  307.864990          25.0  0.002206  12.507555   9.873809  163.776979   \n",
       "7-2  370.299011          13.0  0.003463  36.799025  13.417882  211.015165   \n",
       "7-3  390.078003          25.0  0.002691   3.249339   6.472832  135.292660   \n",
       "7-4  723.723999          15.0  0.000000   4.033677   0.000000   23.492430   \n",
       "\n",
       "          Pd106Di     Pd108Di      Pd110Di   In113Di  ...   Yb171Di  \\\n",
       "7-0      5.702826  104.989067    98.768669  0.000000  ...  0.000000   \n",
       "7-1 -58890.808302  257.224193    95.971925  0.015925  ...  8.336418   \n",
       "7-2     20.976627  276.136718   149.921257  0.004231  ...  7.125834   \n",
       "7-3      3.016704  168.964218  1647.904436  0.000168  ...  2.134535   \n",
       "7-4      0.000000   48.940914    30.778446  3.794250  ...  0.000000   \n",
       "\n",
       "       Yb172Di    Yb173Di     Yb174Di    Lu175Di    Yb176Di     Ir191Di  \\\n",
       "7-0   2.360246   0.000000    2.092115   0.883527  23.012224   36.423241   \n",
       "7-1   2.261871  44.503762  292.588630  27.549920   9.856425   45.391734   \n",
       "7-2  91.484564   2.062176    0.014850   0.014355   0.868086  123.887066   \n",
       "7-3   2.635778  45.804745    7.486548   0.000412  16.518124   78.197299   \n",
       "7-4   0.000000   0.000000    0.180230   0.000000   3.118176    4.195136   \n",
       "\n",
       "        Ir193Di  Pt195Di   beadDist  \n",
       "7-0  115.555214  0.00000  30.672935  \n",
       "7-1   55.241609  0.00000  24.536996  \n",
       "7-2  262.643249  0.00123  36.182745  \n",
       "7-3  151.034121  0.00000  33.435956  \n",
       "7-4    9.201713  0.00000  31.036688  \n",
       "\n",
       "[5 rows x 55 columns]"
      ]
     },
     "execution_count": 13,
     "metadata": {},
     "output_type": "execute_result"
    }
   ],
   "source": [
    "dataset[dataset.obs[\"file_name\"] == filename,:].to_df(layer = \"normalized\").head()"
   ]
  },
  {
   "cell_type": "code",
   "execution_count": 14,
   "id": "97877739-cc1a-4453-958c-194264947ca6",
   "metadata": {},
   "outputs": [
    {
     "data": {
      "text/plain": [
       "AnnData object with n_obs × n_vars = 7000 × 55\n",
       "    obs: 'file_name', 'reference', 'batch', 'sample_ID'\n",
       "    layers: 'compensated', 'normalized'"
      ]
     },
     "execution_count": 14,
     "metadata": {},
     "output_type": "execute_result"
    }
   ],
   "source": [
    "dataset"
   ]
  }
 ],
 "metadata": {
  "kernelspec": {
   "display_name": "Python 3 (ipykernel)",
   "language": "python",
   "name": "python3"
  },
  "language_info": {
   "codemirror_mode": {
    "name": "ipython",
    "version": 3
   },
   "file_extension": ".py",
   "mimetype": "text/x-python",
   "name": "python",
   "nbconvert_exporter": "python",
   "pygments_lexer": "ipython3",
   "version": "3.10.14"
  }
 },
 "nbformat": 4,
 "nbformat_minor": 5
}
