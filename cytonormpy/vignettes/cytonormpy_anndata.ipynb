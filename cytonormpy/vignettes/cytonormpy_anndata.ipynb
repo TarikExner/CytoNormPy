{
 "cells": [
  {
   "cell_type": "markdown",
   "id": "af52f273-a5a6-4468-98e3-7e4b0db25e82",
   "metadata": {},
   "source": [
    "# CytoNormPy - AnnData objects\n",
    "\n",
    "In this vignette, we showcase a typical analysis workflow using anndata objects.\n",
    "\n",
    "First, we import the necessary libraries and create the anndata object."
   ]
  },
  {
   "cell_type": "code",
   "execution_count": 1,
   "id": "ef0905bf-c14c-460c-9f5e-78962ea79de2",
   "metadata": {},
   "outputs": [],
   "source": [
    "import cytonormpy as cnp\n",
    "\n",
    "import anndata as ad\n",
    "import pandas as pd\n",
    "import os\n",
    "import numpy as np\n",
    "\n",
    "from cytonormpy import FCSFile"
   ]
  },
  {
   "cell_type": "markdown",
   "id": "abd3ab11-fc16-4398-8acc-9a45667e468d",
   "metadata": {},
   "source": [
    "## AnnData creation\n",
    "\n",
    "We use the internal representation to create an AnnData object as follows:"
   ]
  },
  {
   "cell_type": "code",
   "execution_count": 2,
   "id": "57358205-db52-4637-9ae6-7bf5e9bc0f9e",
   "metadata": {},
   "outputs": [],
   "source": [
    "input_directory = \"../_resources/\"\n",
    "fcs_files = [file for file in os.listdir(input_directory) if file.endswith(\".fcs\")]\n",
    "adatas = []\n",
    "\n",
    "metadata = pd.read_csv(os.path.join(input_directory, \"metadata_sid.csv\"))\n",
    "for file_no, file in enumerate(fcs_files):\n",
    "    fcs = FCSFile(input_directory = input_directory,\n",
    "                  file_name = file)\n",
    "    events = fcs.original_events\n",
    "    md_row = metadata.loc[metadata[\"file_name\"] == file, :].to_numpy()\n",
    "    obs = np.repeat(md_row, events.shape[0], axis = 0)\n",
    "    var_frame = fcs.channels\n",
    "    obs_frame = pd.DataFrame(\n",
    "        data = obs,\n",
    "        columns = metadata.columns,\n",
    "        index = pd.Index([f\"{file_no}-{str(i)}\" for i in range(events.shape[0])])\n",
    "    )\n",
    "    adata = ad.AnnData(\n",
    "        obs = obs_frame,\n",
    "        var = var_frame,\n",
    "        layers = {\"compensated\": events}\n",
    "    )\n",
    "    adata.obs_names_make_unique()\n",
    "    adata.var_names_make_unique()\n",
    "    adatas.append(adata)\n",
    "\n",
    "dataset = ad.concat(adatas, axis = 0, join = \"outer\", merge = \"same\")\n",
    "dataset.obs = dataset.obs.astype(\"object\")\n",
    "dataset.var = dataset.var.astype(\"object\")\n",
    "dataset.obs_names_make_unique()\n",
    "dataset.var_names_make_unique()"
   ]
  },
  {
   "cell_type": "code",
   "execution_count": 3,
   "id": "b9862fab-e60d-46eb-bd8d-364e46ba975e",
   "metadata": {},
   "outputs": [
    {
     "data": {
      "text/plain": [
       "AnnData object with n_obs × n_vars = 6000 × 55\n",
       "    obs: 'file_name', 'reference', 'batch', 'sample_ID'\n",
       "    var: 'pns', 'png', 'pne', 'channel_numbers'\n",
       "    layers: 'compensated'"
      ]
     },
     "execution_count": 3,
     "metadata": {},
     "output_type": "execute_result"
    }
   ],
   "source": [
    "dataset"
   ]
  },
  {
   "cell_type": "markdown",
   "id": "56da0c12-54ea-4fe3-8af7-ecf69b788cf5",
   "metadata": {},
   "source": [
    "## Data setup\n",
    "\n",
    "We instantiate the cytonorm object and add a data transformer that will transform our data to the asinh space and the clusterer that will cluster the cells."
   ]
  },
  {
   "cell_type": "code",
   "execution_count": 4,
   "id": "db7293b8-34c6-4a33-ad82-d2373f734274",
   "metadata": {},
   "outputs": [],
   "source": [
    "cn = cnp.CytoNorm()\n",
    "\n",
    "t = cnp.AsinhTransformer()\n",
    "fs = cnp.FlowSOM(n_clusters = 10)\n",
    "\n",
    "cn.add_transformer(t)\n",
    "cn.add_clusterer(fs)\n",
    "\n"
   ]
  },
  {
   "cell_type": "markdown",
   "id": "8f8f9e60-4da4-437c-9a28-1c5f5715f41d",
   "metadata": {},
   "source": [
    "Next, we run the `run_anndata_setup()` method."
   ]
  },
  {
   "cell_type": "code",
   "execution_count": 5,
   "id": "34d1c6b1-4b44-42e7-b85d-32192562cb87",
   "metadata": {},
   "outputs": [],
   "source": [
    "cn.run_anndata_setup(dataset,\n",
    "                     layer = \"compensated\",\n",
    "                     key_added = \"normalized\")"
   ]
  },
  {
   "cell_type": "markdown",
   "id": "f7060585-85c5-419a-ac44-67659fa95653",
   "metadata": {},
   "source": [
    "## Clustering\n",
    "\n",
    "We run the FlowSOM clustering and pass a `cluster_cv_threshold` of 2. This value is used to evaluate if the distribution of files within one cluster is sufficient. A warning will be raised if that is not the case."
   ]
  },
  {
   "cell_type": "code",
   "execution_count": 6,
   "id": "fdd0defd-5624-4362-97f4-c7fb122cf961",
   "metadata": {},
   "outputs": [],
   "source": [
    "cn.run_clustering(cluster_cv_threshold = 2)"
   ]
  },
  {
   "cell_type": "markdown",
   "id": "d3358215-7614-4f4d-bf59-d7b0a68dfcee",
   "metadata": {},
   "source": [
    "## Calculation\n",
    "\n",
    "Finally, we calculate the quantiles per batch and cluster, calculate the spline functions and transform the expression values accordingly.\n",
    "\n",
    "The data will automatically be saved to the anndata object in the layer \"normalized\". In order to change the layer name, use the keyword `key_added` in the `run_anndata_setup()` method from above."
   ]
  },
  {
   "cell_type": "code",
   "execution_count": 7,
   "id": "62782e3c-9a5d-4a0e-9feb-254988bf1cf3",
   "metadata": {},
   "outputs": [
    {
     "name": "stderr",
     "output_type": "stream",
     "text": [
      "C:\\Users\\tarik\\anaconda3\\envs\\cytonorm\\lib\\site-packages\\cytonormpy\\_cytonorm\\_cytonorm.py:463: UserWarning: 10 cells detected in batch 1 for cluster 0. Skipping quantile calculation. \n",
      "  warnings.warn(\n",
      "C:\\Users\\tarik\\anaconda3\\envs\\cytonorm\\lib\\site-packages\\cytonormpy\\_cytonorm\\_cytonorm.py:463: UserWarning: 32 cells detected in batch 1 for cluster 1. Skipping quantile calculation. \n",
      "  warnings.warn(\n",
      "C:\\Users\\tarik\\anaconda3\\envs\\cytonorm\\lib\\site-packages\\cytonormpy\\_cytonorm\\_cytonorm.py:463: UserWarning: 23 cells detected in batch 1 for cluster 2. Skipping quantile calculation. \n",
      "  warnings.warn(\n",
      "C:\\Users\\tarik\\anaconda3\\envs\\cytonorm\\lib\\site-packages\\cytonormpy\\_cytonorm\\_cytonorm.py:463: UserWarning: 34 cells detected in batch 1 for cluster 3. Skipping quantile calculation. \n",
      "  warnings.warn(\n",
      "C:\\Users\\tarik\\anaconda3\\envs\\cytonorm\\lib\\site-packages\\cytonormpy\\_cytonorm\\_cytonorm.py:463: UserWarning: 12 cells detected in batch 1 for cluster 7. Skipping quantile calculation. \n",
      "  warnings.warn(\n",
      "C:\\Users\\tarik\\anaconda3\\envs\\cytonorm\\lib\\site-packages\\cytonormpy\\_cytonorm\\_cytonorm.py:463: UserWarning: 18 cells detected in batch 1 for cluster 8. Skipping quantile calculation. \n",
      "  warnings.warn(\n",
      "C:\\Users\\tarik\\anaconda3\\envs\\cytonorm\\lib\\site-packages\\cytonormpy\\_cytonorm\\_cytonorm.py:463: UserWarning: 11 cells detected in batch 2 for cluster 0. Skipping quantile calculation. \n",
      "  warnings.warn(\n",
      "C:\\Users\\tarik\\anaconda3\\envs\\cytonorm\\lib\\site-packages\\cytonormpy\\_cytonorm\\_cytonorm.py:463: UserWarning: 44 cells detected in batch 2 for cluster 1. Skipping quantile calculation. \n",
      "  warnings.warn(\n",
      "C:\\Users\\tarik\\anaconda3\\envs\\cytonorm\\lib\\site-packages\\cytonormpy\\_cytonorm\\_cytonorm.py:463: UserWarning: 10 cells detected in batch 2 for cluster 2. Skipping quantile calculation. \n",
      "  warnings.warn(\n",
      "C:\\Users\\tarik\\anaconda3\\envs\\cytonorm\\lib\\site-packages\\cytonormpy\\_cytonorm\\_cytonorm.py:463: UserWarning: 10 cells detected in batch 2 for cluster 7. Skipping quantile calculation. \n",
      "  warnings.warn(\n",
      "C:\\Users\\tarik\\anaconda3\\envs\\cytonorm\\lib\\site-packages\\cytonormpy\\_cytonorm\\_cytonorm.py:463: UserWarning: 13 cells detected in batch 2 for cluster 8. Skipping quantile calculation. \n",
      "  warnings.warn(\n",
      "C:\\Users\\tarik\\anaconda3\\envs\\cytonorm\\lib\\site-packages\\cytonormpy\\_cytonorm\\_cytonorm.py:463: UserWarning: 17 cells detected in batch 3 for cluster 0. Skipping quantile calculation. \n",
      "  warnings.warn(\n",
      "C:\\Users\\tarik\\anaconda3\\envs\\cytonorm\\lib\\site-packages\\cytonormpy\\_cytonorm\\_cytonorm.py:463: UserWarning: 41 cells detected in batch 3 for cluster 2. Skipping quantile calculation. \n",
      "  warnings.warn(\n",
      "C:\\Users\\tarik\\anaconda3\\envs\\cytonorm\\lib\\site-packages\\cytonormpy\\_cytonorm\\_cytonorm.py:463: UserWarning: 41 cells detected in batch 3 for cluster 3. Skipping quantile calculation. \n",
      "  warnings.warn(\n",
      "C:\\Users\\tarik\\anaconda3\\envs\\cytonorm\\lib\\site-packages\\cytonormpy\\_cytonorm\\_cytonorm.py:463: UserWarning: 9 cells detected in batch 3 for cluster 7. Skipping quantile calculation. \n",
      "  warnings.warn(\n",
      "C:\\Users\\tarik\\anaconda3\\envs\\cytonorm\\lib\\site-packages\\cytonormpy\\_cytonorm\\_cytonorm.py:463: UserWarning: 23 cells detected in batch 3 for cluster 8. Skipping quantile calculation. \n",
      "  warnings.warn(\n",
      "C:\\Users\\tarik\\anaconda3\\envs\\cytonorm\\lib\\site-packages\\cytonormpy\\_normalization\\_quantile_calc.py:301: RuntimeWarning: Mean of empty slice\n",
      "  self.distrib = mean_func(\n"
     ]
    },
    {
     "name": "stdout",
     "output_type": "stream",
     "text": [
      "normalized file Gates_PTLG021_Unstim_Control_2.fcs\n",
      "normalized file Gates_PTLG028_Unstim_Control_2.fcs\n",
      "normalized file Gates_PTLG034_Unstim_Control_2.fcs\n"
     ]
    }
   ],
   "source": [
    "cn.calculate_quantiles()\n",
    "cn.calculate_splines(goal = \"batch_mean\")\n",
    "cn.normalize_data()"
   ]
  },
  {
   "cell_type": "code",
   "execution_count": 8,
   "id": "0a52ba15-eab0-4c58-a0b7-13b312529884",
   "metadata": {},
   "outputs": [
    {
     "data": {
      "text/plain": [
       "AnnData object with n_obs × n_vars = 6000 × 55\n",
       "    obs: 'file_name', 'reference', 'batch', 'sample_ID'\n",
       "    var: 'pns', 'png', 'pne', 'channel_numbers'\n",
       "    layers: 'compensated', 'normalized'"
      ]
     },
     "execution_count": 8,
     "metadata": {},
     "output_type": "execute_result"
    }
   ],
   "source": [
    "dataset"
   ]
  }
 ],
 "metadata": {
  "kernelspec": {
   "display_name": "Python 3 (ipykernel)",
   "language": "python",
   "name": "python3"
  },
  "language_info": {
   "codemirror_mode": {
    "name": "ipython",
    "version": 3
   },
   "file_extension": ".py",
   "mimetype": "text/x-python",
   "name": "python",
   "nbconvert_exporter": "python",
   "pygments_lexer": "ipython3",
   "version": "3.10.14"
  }
 },
 "nbformat": 4,
 "nbformat_minor": 5
}
